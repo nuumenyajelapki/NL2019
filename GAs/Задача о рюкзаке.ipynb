{
 "cells": [
  {
   "cell_type": "markdown",
   "metadata": {},
   "source": [
    "<h1>Задача о рюкзаке</h1>"
   ]
  },
  {
   "cell_type": "code",
   "execution_count": 1,
   "metadata": {},
   "outputs": [],
   "source": [
    "from pyeasyga import pyeasyga"
   ]
  },
  {
   "cell_type": "markdown",
   "metadata": {},
   "source": [
    "<h3>Задаем данные</h3>"
   ]
  },
  {
   "cell_type": "code",
   "execution_count": 2,
   "metadata": {},
   "outputs": [],
   "source": [
    "data = [{'name': 'box1', 'value': 4, 'weight': 12},\n",
    "        {'name': 'box2', 'value': 2, 'weight': 1},\n",
    "        {'name': 'box3', 'value': 10, 'weight': 4},\n",
    "        {'name': 'box4', 'value': 1, 'weight': 1},\n",
    "        {'name': 'box5', 'value': 2, 'weight': 2}]\n",
    "\n",
    "ga = pyeasyga.GeneticAlgorithm(data)   "
   ]
  },
  {
   "cell_type": "markdown",
   "metadata": {},
   "source": [
    "<h3>Функция приспособления</h3>"
   ]
  },
  {
   "cell_type": "code",
   "execution_count": 3,
   "metadata": {},
   "outputs": [],
   "source": [
    "def fitness(individual, data):\n",
    "    values, weights = 0, 0\n",
    "    for selected, box in zip(individual, data):\n",
    "        if selected:\n",
    "            values += box.get('value')\n",
    "            weights += box.get('weight')\n",
    "    if weights > 15:\n",
    "        values = 0\n",
    "    return values"
   ]
  },
  {
   "cell_type": "markdown",
   "metadata": {},
   "source": [
    "<h3>Запускаем алгоритм</h3>"
   ]
  },
  {
   "cell_type": "code",
   "execution_count": 4,
   "metadata": {},
   "outputs": [],
   "source": [
    "ga.fitness_function = fitness\n",
    "ga.run()    "
   ]
  },
  {
   "cell_type": "markdown",
   "metadata": {},
   "source": [
    "<h3>Выводим лучшие результаты алгоритма</h3>"
   ]
  },
  {
   "cell_type": "code",
   "execution_count": 5,
   "metadata": {
    "scrolled": true
   },
   "outputs": [
    {
     "name": "stdout",
     "output_type": "stream",
     "text": [
      "(15, [0, 1, 1, 1, 1])\n"
     ]
    }
   ],
   "source": [
    "print (ga.best_individual())"
   ]
  }
 ],
 "metadata": {
  "kernelspec": {
   "display_name": "Python 3",
   "language": "python",
   "name": "python3"
  },
  "language_info": {
   "codemirror_mode": {
    "name": "ipython",
    "version": 3
   },
   "file_extension": ".py",
   "mimetype": "text/x-python",
   "name": "python",
   "nbconvert_exporter": "python",
   "pygments_lexer": "ipython3",
   "version": "3.7.4"
  }
 },
 "nbformat": 4,
 "nbformat_minor": 2
}
