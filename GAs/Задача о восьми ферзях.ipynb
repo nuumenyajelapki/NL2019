{
 "cells": [
  {
   "cell_type": "markdown",
   "metadata": {},
   "source": [
    "<h1>Задачка о восьми ферзях</h1>"
   ]
  },
  {
   "cell_type": "code",
   "execution_count": 1,
   "metadata": {},
   "outputs": [],
   "source": [
    "import random\n",
    "from pyeasyga import pyeasyga"
   ]
  },
  {
   "cell_type": "code",
   "execution_count": 2,
   "metadata": {},
   "outputs": [],
   "source": [
    "seed_data = [0, 1, 2, 3, 4, 5, 6, 7]"
   ]
  },
  {
   "cell_type": "markdown",
   "metadata": {},
   "source": [
    "<h3>Инициализируем генетический алгоритм</h3>"
   ]
  },
  {
   "cell_type": "code",
   "execution_count": 3,
   "metadata": {},
   "outputs": [],
   "source": [
    "ga = pyeasyga.GeneticAlgorithm(seed_data,\n",
    "                            population_size=200,\n",
    "                            generations=100,\n",
    "                            crossover_probability=0.8,\n",
    "                            mutation_probability=0.2,\n",
    "                            elitism=True,\n",
    "                            maximise_fitness=False)"
   ]
  },
  {
   "cell_type": "code",
   "execution_count": 4,
   "metadata": {},
   "outputs": [],
   "source": [
    "def create_individual(data):\n",
    "    individual = data[:]\n",
    "    random.shuffle(individual)\n",
    "    return individual"
   ]
  },
  {
   "cell_type": "code",
   "execution_count": 5,
   "metadata": {},
   "outputs": [],
   "source": [
    "ga.create_individual = create_individual"
   ]
  },
  {
   "cell_type": "markdown",
   "metadata": {},
   "source": [
    "<h3>Определяем функцию скрещивания</h3>"
   ]
  },
  {
   "cell_type": "code",
   "execution_count": 6,
   "metadata": {},
   "outputs": [],
   "source": [
    "def crossover(parent_1, parent_2):\n",
    "    crossover_index = random.randrange(1, len(parent_1))\n",
    "    child_1a = parent_1[:crossover_index]\n",
    "    child_1b = [i for i in parent_2 if i not in child_1a]\n",
    "    child_1 = child_1a + child_1b\n",
    "\n",
    "    child_2a = parent_2[crossover_index:]\n",
    "    child_2b = [i for i in parent_1 if i not in child_2a]\n",
    "    child_2 = child_2a + child_2b\n",
    "\n",
    "    return child_1, child_2"
   ]
  },
  {
   "cell_type": "code",
   "execution_count": 7,
   "metadata": {},
   "outputs": [],
   "source": [
    "ga.crossover_function = crossover"
   ]
  },
  {
   "cell_type": "markdown",
   "metadata": {},
   "source": [
    "<h3>Определяем функцию мутации</h3>"
   ]
  },
  {
   "cell_type": "code",
   "execution_count": 8,
   "metadata": {},
   "outputs": [],
   "source": [
    "def mutate(individual):\n",
    "    mutate_index1 = random.randrange(len(individual))\n",
    "    mutate_index2 = random.randrange(len(individual))\n",
    "    individual[mutate_index1], individual[mutate_index2] = individual[mutate_index2], individual[mutate_index1]"
   ]
  },
  {
   "cell_type": "code",
   "execution_count": 9,
   "metadata": {},
   "outputs": [],
   "source": [
    "ga.mutate_function = mutate"
   ]
  },
  {
   "cell_type": "markdown",
   "metadata": {},
   "source": [
    "<h3>Определяем функцию селекции</h3>"
   ]
  },
  {
   "cell_type": "code",
   "execution_count": 10,
   "metadata": {},
   "outputs": [],
   "source": [
    "def selection(population):\n",
    "    return random.choice(population)"
   ]
  },
  {
   "cell_type": "code",
   "execution_count": 11,
   "metadata": {},
   "outputs": [],
   "source": [
    "ga.selection_function = selection"
   ]
  },
  {
   "cell_type": "markdown",
   "metadata": {},
   "source": [
    "<h3>Определяем функцию приспособления</h3>"
   ]
  },
  {
   "cell_type": "code",
   "execution_count": 12,
   "metadata": {},
   "outputs": [],
   "source": [
    "def fitness (individual, data):\n",
    "    collisions = 0\n",
    "    for item in individual:\n",
    "        item_index = individual.index(item)\n",
    "        for elem in individual:\n",
    "            elem_index = individual.index(elem)\n",
    "            if item_index != elem_index:\n",
    "                if item - (elem_index - item_index) == elem \\\n",
    "                    or (elem_index - item_index) + item == elem:\n",
    "                    collisions += 1\n",
    "    return collisions"
   ]
  },
  {
   "cell_type": "code",
   "execution_count": 13,
   "metadata": {},
   "outputs": [],
   "source": [
    "ga.fitness_function = fitness       \n",
    "ga.run() "
   ]
  },
  {
   "cell_type": "markdown",
   "metadata": {},
   "source": [
    "<h3>Определяем функцию отрисовки доски</h3>"
   ]
  },
  {
   "cell_type": "code",
   "execution_count": 14,
   "metadata": {},
   "outputs": [],
   "source": [
    "def print_board(board_representation):\n",
    "    def print_x_in_row(row_length, x_position):\n",
    "        print (''),\n",
    "        for _ in range(row_length):\n",
    "            print (' ---- ', end=\"\"),\n",
    "        print ('\\n'),\n",
    "        for i in range(row_length):\n",
    "            if i == x_position:\n",
    "                print ('  {}  |'.format('X'), end=\"\"),\n",
    "            else:\n",
    "                print ('     |', end=\"\"),\n",
    "        print ('')\n",
    "\n",
    "    def print_board_bottom(row_length):\n",
    "        print (''),\n",
    "        for _ in range(row_length):\n",
    "            print (' ---- ', end=\"\"),\n",
    "\n",
    "    num_of_rows = len(board_representation)\n",
    "    row_length = num_of_rows    #rows == columns in a chessboard\n",
    "\n",
    "    for row in range(num_of_rows):\n",
    "        print_x_in_row(row_length, board_representation[row])\n",
    "\n",
    "    print_board_bottom(row_length)"
   ]
  },
  {
   "cell_type": "markdown",
   "metadata": {},
   "source": [
    "<h3>Выводим лучший результат генетического алгоритма и отрисовываем доску</h3>"
   ]
  },
  {
   "cell_type": "code",
   "execution_count": 15,
   "metadata": {
    "scrolled": true
   },
   "outputs": [
    {
     "name": "stdout",
     "output_type": "stream",
     "text": [
      "(0, [1, 3, 5, 7, 2, 0, 6, 4])\n",
      "\n",
      " ----  ----  ----  ----  ----  ----  ----  ---- \n",
      "\n",
      "     |  X  |     |     |     |     |     |     |\n",
      "\n",
      " ----  ----  ----  ----  ----  ----  ----  ---- \n",
      "\n",
      "     |     |     |  X  |     |     |     |     |\n",
      "\n",
      " ----  ----  ----  ----  ----  ----  ----  ---- \n",
      "\n",
      "     |     |     |     |     |  X  |     |     |\n",
      "\n",
      " ----  ----  ----  ----  ----  ----  ----  ---- \n",
      "\n",
      "     |     |     |     |     |     |     |  X  |\n",
      "\n",
      " ----  ----  ----  ----  ----  ----  ----  ---- \n",
      "\n",
      "     |     |  X  |     |     |     |     |     |\n",
      "\n",
      " ----  ----  ----  ----  ----  ----  ----  ---- \n",
      "\n",
      "  X  |     |     |     |     |     |     |     |\n",
      "\n",
      " ----  ----  ----  ----  ----  ----  ----  ---- \n",
      "\n",
      "     |     |     |     |     |     |  X  |     |\n",
      "\n",
      " ----  ----  ----  ----  ----  ----  ----  ---- \n",
      "\n",
      "     |     |     |     |  X  |     |     |     |\n",
      "\n",
      " ----  ----  ----  ----  ----  ----  ----  ---- "
     ]
    }
   ],
   "source": [
    "if ga.best_individual()[0] == 0:\n",
    "    print (ga.best_individual()),\n",
    "    print_board(ga.best_individual()[1])\n",
    "else:\n",
    "    print (None)"
   ]
  }
 ],
 "metadata": {
  "kernelspec": {
   "display_name": "Python 3",
   "language": "python",
   "name": "python3"
  },
  "language_info": {
   "codemirror_mode": {
    "name": "ipython",
    "version": 3
   },
   "file_extension": ".py",
   "mimetype": "text/x-python",
   "name": "python",
   "nbconvert_exporter": "python",
   "pygments_lexer": "ipython3",
   "version": "3.7.4"
  }
 },
 "nbformat": 4,
 "nbformat_minor": 2
}
